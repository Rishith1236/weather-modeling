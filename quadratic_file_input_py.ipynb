{
  "nbformat": 4,
  "nbformat_minor": 0,
  "metadata": {
    "colab": {
      "provenance": [],
      "authorship_tag": "ABX9TyNrGwa44qs0Kv+ZyScDv38G",
      "include_colab_link": true
    },
    "kernelspec": {
      "name": "python3",
      "display_name": "Python 3"
    },
    "language_info": {
      "name": "python"
    }
  },
  "cells": [
    {
      "cell_type": "markdown",
      "metadata": {
        "id": "view-in-github",
        "colab_type": "text"
      },
      "source": [
        "<a href=\"https://colab.research.google.com/github/Rishith1236/weather-modeling/blob/main/quadratic_file_input_py.ipynb\" target=\"_parent\"><img src=\"https://colab.research.google.com/assets/colab-badge.svg\" alt=\"Open In Colab\"/></a>"
      ]
    },
    {
      "cell_type": "code",
      "execution_count": null,
      "metadata": {
        "colab": {
          "base_uri": "https://localhost:8080/"
        },
        "id": "MFZsd5pI2EwD",
        "outputId": "6cd2c09a-6618-4034-f0ef-f051b51a0c75"
      },
      "outputs": [
        {
          "output_type": "stream",
          "name": "stdout",
          "text": [
            "For a = 1.0, b = -5.0, c = 6.0, the solutions are x1 = 3.0 and x2 = 2.0\n",
            "For a = 2.0, b = 4.0, c = -6.0, the solutions are x1 = 1.0 and x2 = -3.0\n",
            "For a = -1.0, b = 3.0, c = 4.0, the solutions are x1 = -1.0 and x2 = 4.0\n"
          ]
        }
      ],
      "source": [
        "import math\n",
        "\n",
        "# Read the data from a file\n",
        "with open('input_data.txt', 'r') as file:\n",
        "    lines = file.readlines()\n",
        "\n",
        "# Process each line (set of a, b, c)\n",
        "for line in lines:\n",
        "    a, b, c = map(float, line.split())\n",
        "\n",
        "    # Solve the quadratic equation ax^2 + bx + c = 0\n",
        "    discriminant = b**2 - 4*a*c\n",
        "\n",
        "    if discriminant >= 0:\n",
        "        # Two real solutions\n",
        "        x1 = (-b + math.sqrt(discriminant)) / (2*a)\n",
        "        x2 = (-b - math.sqrt(discriminant)) / (2*a)\n",
        "        print(f\"For a = {a}, b = {b}, c = {c}, the solutions are x1 = {x1} and x2 = {x2}\")\n",
        "    else:\n",
        "        print(f\"For a = {a}, b = {b}, c = {c}, there are no real solutions.\")\n"
      ]
    },
    {
      "cell_type": "code",
      "source": [
        "import math\n",
        "\n",
        "# Prompt user for input\n",
        "a = float(input(\"Enter the value of a: \"))\n",
        "b = float(input(\"Enter the value of b: \"))\n",
        "c = float(input(\"Enter the value of c: \"))\n",
        "\n",
        "# Solve the quadratic equation ax^2 + bx + c = 0\n",
        "discriminant = b**2 - 4*a*c\n",
        "\n",
        "if discriminant >= 0:\n",
        "    # Two real solutions\n",
        "    x1 = (-b + math.sqrt(discriminant)) / (2*a)\n",
        "    x2 = (-b - math.sqrt(discriminant)) / (2*a)\n",
        "    print(f\"The solutions are x1 = {x1} and x2 = {x2}\")\n",
        "else:\n",
        "    print(\"No real solutions.\")\n"
      ],
      "metadata": {
        "colab": {
          "base_uri": "https://localhost:8080/"
        },
        "id": "2aOVzTFU9UoT",
        "outputId": "88c9285a-1b6e-4b0e-96ae-f1cf5fba91f0"
      },
      "execution_count": 4,
      "outputs": [
        {
          "output_type": "stream",
          "name": "stdout",
          "text": [
            "Enter the value of a: 2\n",
            "Enter the value of b: -7\n",
            "Enter the value of c: 5\n",
            "The solutions are x1 = 2.5 and x2 = 1.0\n"
          ]
        }
      ]
    },
    {
      "cell_type": "code",
      "source": [
        "import math\n",
        "\n",
        "# Read the data from a file\n",
        "with open('input_data.txt', 'r') as file:\n",
        "    lines = file.readlines()\n",
        "\n",
        "# Process each line (set of a, b, c)\n",
        "for line in lines:\n",
        "    a, b, c = map(float, line.split())\n",
        "\n",
        "    # Solve the quadratic equation ax^2 + bx + c = 0\n",
        "    discriminant = b**2 - 4*a*c\n",
        "\n",
        "    if discriminant >= 0:\n",
        "        # Two real solutions\n",
        "        x1 = (-b + math.sqrt(discriminant)) / (2*a)\n",
        "        x2 = (-b - math.sqrt(discriminant)) / (2*a)\n",
        "        print(f\"For a = {a}, b = {b}, c = {c}, the solutions are x1 = {x1} and x2 = {x2}\")\n",
        "    else:\n",
        "        print(f\"For a = {a}, b = {b}, c = {c}, there are no real solutions.\")\n"
      ],
      "metadata": {
        "colab": {
          "base_uri": "https://localhost:8080/"
        },
        "id": "nhJT8h-M9gDl",
        "outputId": "46297775-8c50-49fc-b6dc-53b236dfb8c0"
      },
      "execution_count": 2,
      "outputs": [
        {
          "output_type": "stream",
          "name": "stdout",
          "text": [
            "For a = 1.0, b = -5.0, c = 6.0, the solutions are x1 = 3.0 and x2 = 2.0\n",
            "For a = 2.0, b = 4.0, c = -6.0, the solutions are x1 = 1.0 and x2 = -3.0\n",
            "For a = -1.0, b = 3.0, c = 4.0, the solutions are x1 = -1.0 and x2 = 4.0\n"
          ]
        }
      ]
    },
    {
      "cell_type": "code",
      "source": [
        "import math\n",
        "\n",
        "def solve_quadratic(a, b, c):\n",
        "    discriminant = b**2 - 4*a*c\n",
        "    if discriminant >= 0:\n",
        "        x1 = (-b + math.sqrt(discriminant)) / (2*a)\n",
        "        x2 = (-b - math.sqrt(discriminant)) / (2*a)\n",
        "        return x1, x2\n",
        "    else:\n",
        "        return None\n",
        "\n",
        "# Read data from file or allow user to input multiple sets\n",
        "data_type = input(\"Do you want to read data from a file or input manually? (file/manual): \")\n",
        "\n",
        "if data_type.lower() == 'file':\n",
        "    filename = input(\"Enter the filename: \")\n",
        "    with open(filename, 'r') as file:\n",
        "        lines = file.readlines()\n",
        "\n",
        "elif data_type.lower() == 'manual':\n",
        "    num_sets = int(input(\"How many sets of inputs? \"))\n",
        "    lines = []\n",
        "    for _ in range(num_sets):\n",
        "        a = float(input(\"Enter a: \"))\n",
        "        b = float(input(\"Enter b: \"))\n",
        "        c = float(input(\"Enter c: \"))\n",
        "        lines.append(f\"{a} {b} {c}\")\n",
        "\n",
        "# Process each set\n",
        "for line in lines:\n",
        "    a, b, c = map(float, line.split())\n",
        "    result = solve_quadratic(a, b, c)\n",
        "    if result:\n",
        "        x1, x2 = result\n",
        "        print(f\"For a = {a}, b = {b}, c = {c}, the solutions are x1 = {x1} and x2 = {x2}\")\n",
        "    else:\n",
        "        print(f\"For a = {a}, b = {b}, c = {c}, there are no real solutions.\")\n"
      ],
      "metadata": {
        "colab": {
          "base_uri": "https://localhost:8080/"
        },
        "id": "kVKYiiwY9vuS",
        "outputId": "1388b8a6-5137-4e9b-dd46-c97f55036091"
      },
      "execution_count": 3,
      "outputs": [
        {
          "output_type": "stream",
          "name": "stdout",
          "text": [
            "Do you want to read data from a file or input manually? (file/manual): file\n",
            "Enter the filename: input_data.txt\n",
            "For a = 1.0, b = -5.0, c = 6.0, the solutions are x1 = 3.0 and x2 = 2.0\n",
            "For a = 2.0, b = 4.0, c = -6.0, the solutions are x1 = 1.0 and x2 = -3.0\n",
            "For a = -1.0, b = 3.0, c = 4.0, the solutions are x1 = -1.0 and x2 = 4.0\n"
          ]
        }
      ]
    }
  ]
}